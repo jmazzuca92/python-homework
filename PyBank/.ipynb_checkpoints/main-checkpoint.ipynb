{
 "cells": [
  {
   "cell_type": "code",
   "execution_count": 49,
   "metadata": {},
   "outputs": [
    {
     "name": "stdout",
     "output_type": "stream",
     "text": [
      "Financial Analysis\n",
      "----------------------------\n",
      "Total Months: 86\n",
      "Total Profit/Loss: $38382578\n",
      "Average Change: $446309.05\n",
      "Greatest Increase in Profits: Feb-2012 ($1170593)\n",
      "Greatest Decrease in Profits: Sep-2013 ($-1196225)\n"
     ]
    }
   ],
   "source": [
    "# import csv file \n",
    "from pathlib import Path\n",
    "import csv\n",
    "\n",
    "csvpath = Path('/Users/joemazzuca/Desktop/UofT_FinTech_Boot_Camp/Week_2/Homework_Assignment/python-homework/PyBank/budget_data.csv')\n",
    "\n",
    "# create analysis dictionary\n",
    "analysis = {}  \n",
    "\n",
    "with open(csvpath, 'r') as csvfile:\n",
    "    csvreader = csv.reader(csvfile, delimiter = ',')\n",
    "\n",
    "    # populate csv data into analysis dictionary\n",
    "    for row in csvreader:\n",
    "        analysis[row[0]] = row[1]\n",
    "\n",
    "# remove header from csv file    \n",
    "del analysis['Date']\n",
    "\n",
    "# initialize metric variables\n",
    "total_pnl = 0\n",
    "\n",
    "number_of_months = 0\n",
    "\n",
    "average_pnl = 0\n",
    "\n",
    "maximum_value = 0\n",
    "maximum_key = \"\"\n",
    "\n",
    "minimum_value = 0\n",
    "minimum_key = \"\"\n",
    "\n",
    "# iterate over key-value pairs in dictionary\n",
    "for date, pnl in analysis.items():\n",
    "    \n",
    "    # calculate total profit/loss and sum the total number of months for the period\n",
    "    total_pnl += int(pnl)\n",
    "    number_of_months += 1\n",
    "    \n",
    "    # determine minimum key and value as well as the maximum key and maximum value\n",
    "    if minimum_value == 0:\n",
    "        minimum_value = int(pnl)\n",
    "        minimum_key = date\n",
    "    elif minimum_value > int(pnl):\n",
    "        minimum_value = int(pnl)\n",
    "        minimum_key = date\n",
    "    elif maximum_value < int(pnl):\n",
    "        maximum_value = int(pnl)\n",
    "        maximum_key = date\n",
    "\n",
    "# calculate the average profit/loss for the period in the dictionary\n",
    "average_pnl = round(total_pnl / number_of_months, 2)\n",
    "\n",
    "print(\"Financial Analysis\")\n",
    "print(\"----------------------------\")\n",
    "print(f\"Total Months: {number_of_months}\")\n",
    "print(f\"Total Profit/Loss: ${total_pnl}\")\n",
    "print(f\"Average Change: ${average_pnl}\")\n",
    "print(f\"Greatest Increase in Profits: {maximum_key} (${maximum_value})\")\n",
    "print(f\"Greatest Decrease in Profits: {minimum_key} (${minimum_value})\")"
   ]
  },
  {
   "cell_type": "code",
   "execution_count": null,
   "metadata": {},
   "outputs": [],
   "source": []
  }
 ],
 "metadata": {
  "kernelspec": {
   "display_name": "Python 3",
   "language": "python",
   "name": "python3"
  },
  "language_info": {
   "codemirror_mode": {
    "name": "ipython",
    "version": 3
   },
   "file_extension": ".py",
   "mimetype": "text/x-python",
   "name": "python",
   "nbconvert_exporter": "python",
   "pygments_lexer": "ipython3",
   "version": "3.8.3"
  }
 },
 "nbformat": 4,
 "nbformat_minor": 4
}
